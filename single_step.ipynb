{
 "cells": [
  {
   "cell_type": "code",
   "execution_count": 2,
   "metadata": {},
   "outputs": [],
   "source": [
    "import grafana_screenshot_helper.grafana_screenshot_helper as gsh"
   ]
  },
  {
   "cell_type": "code",
   "execution_count": 7,
   "metadata": {},
   "outputs": [],
   "source": [
    "# \"requests\": [\n",
    "#         {\n",
    "#             \"file_name\": \"AccountBalances.png\",\n",
    "#             \"url_suffix\": \"/d/fa448709-898c-438d-b578-2557ff169a36/monarch2b-mint-account-balance-history\",\n",
    "#             \"width\": 600,\n",
    "#             \"height\": 11000,\n",
    "#         },\n",
    "#         {\n",
    "#             \"file_name\": \"Transactions.png\",\n",
    "#             \"url_suffix\": \"/d/u4a1SzZgz/multi-transaction-aggregations\",\n",
    "#             \"width\": 600,\n",
    "#             \"height\": 4000,\n",
    "#         },\n",
    "#     ],"
   ]
  },
  {
   "cell_type": "code",
   "execution_count": 8,
   "metadata": {},
   "outputs": [],
   "source": [
    "grafana_helper = gsh.GrafanaScreenshotHelper(\n",
    "    scraper_url=\"127.0.0.1:5000\",\n",
    "    # grafana_username=\"bad_user\", \n",
    "    # grafana_password=\"bad_pass\",\n",
    ")"
   ]
  },
  {
   "cell_type": "code",
   "execution_count": 9,
   "metadata": {},
   "outputs": [],
   "source": [
    "grafana_helper.add_request(\n",
    "    file_name=\"AccountBalances.png\",\n",
    "    url_suffix=\"/d/fa448709-898c-438d-b578-2557ff169a36/monarch2b-mint-account-balance-history\",\n",
    "    width=600,\n",
    "    height=11000,\n",
    ")\n",
    "\n",
    "grafana_helper.add_request(\n",
    "    file_name=\"Transactions.png\",\n",
    "    url_suffix=\"/d/u4a1SzZgz/multi-transaction-aggregations\",\n",
    "    width=600,\n",
    "    height=4000,\n",
    ")"
   ]
  },
  {
   "cell_type": "code",
   "execution_count": 10,
   "metadata": {},
   "outputs": [
    {
     "name": "stdout",
     "output_type": "stream",
     "text": [
      "File saved to: ./temp/AccountBalances.png\n",
      "File saved to: ./temp/Transactions.png\n"
     ]
    },
    {
     "data": {
      "text/plain": [
       "True"
      ]
     },
     "execution_count": 10,
     "metadata": {},
     "output_type": "execute_result"
    }
   ],
   "source": [
    "grafana_helper.download_screenshots(\"./temp\")"
   ]
  }
 ],
 "metadata": {
  "kernelspec": {
   "display_name": "venv",
   "language": "python",
   "name": "python3"
  },
  "language_info": {
   "codemirror_mode": {
    "name": "ipython",
    "version": 3
   },
   "file_extension": ".py",
   "mimetype": "text/x-python",
   "name": "python",
   "nbconvert_exporter": "python",
   "pygments_lexer": "ipython3",
   "version": "3.10.12"
  }
 },
 "nbformat": 4,
 "nbformat_minor": 2
}
